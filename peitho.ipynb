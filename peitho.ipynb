{
 "cells": [
  {
   "cell_type": "code",
   "execution_count": 1,
   "outputs": [
    {
     "name": "stdout",
     "output_type": "stream",
     "text": [
      "{'token_type': 'bearer', 'expires_in': 7200, 'access_token': 'R1A5QjBfMFpyZjRoOE4xR2tESDJ3cGxURnFvdUtvRmUyTXZrWjhkMnFnNXlnOjE2ODMwNTU4ODc3MTE6MTowOmF0OjE', 'scope': ['follows.read', 'offline.access', 'tweet.write', 'like.write', 'users.read', 'tweet.read'], 'refresh_token': 'WlJwSjNnQ0taZ29fcUdNenk3SHlrb0hZYzA2TzM2VW02Slk4YlgxSlJSTGs5OjE2ODMwNTU4ODc3MTE6MToxOnJ0OjE', 'expires_at': 1683063152.425092}\n",
      "{'token_type': 'bearer', 'expires_in': 7200, 'access_token': 'WjV0OFVac1ljQ3RsSHpoQUMxOWtNbmNYbjF1Q3BObXhnaVlRdWd1MG9FS1pYOjE2ODMwNTU4ODg0OTM6MToxOmF0OjE', 'scope': ['follows.read', 'offline.access', 'tweet.write', 'like.write', 'users.read', 'tweet.read'], 'refresh_token': 'ZUJQcENjRlBSWVJBeXhEQnBMOElnSTBhcC1wM3QyREIzaVltdVZRcVdjNVZTOjE2ODMwNTU4ODg0OTM6MTowOnJ0OjE', 'expires_at': 1683063153.1905978}\n"
     ]
    }
   ],
   "source": [
    "import os\n",
    "from dotenv import load_dotenv\n",
    "from account import Account, load_accounts, load_mock_accounts\n",
    "from action import load_actions, store_actions\n",
    "from executor import MockExecutor, Executor, exec_next_action\n",
    "\n",
    "load_dotenv()\n",
    "\n",
    "CUSTOMER_API_KEY = os.getenv(\"CUSTOMER_API_KEY\")\n",
    "CUSTOMER_API_KEY_SECRET = os.getenv(\"CUSTOMER_API_KEY_SECRET\")\n",
    "CLIENT_ID = os.getenv(\"CLIENT_ID\")\n",
    "CLIENT_SECRET = os.getenv(\"CLIENT_SECRET\")\n",
    "\n",
    "soc_account, dev_account = load_mock_accounts()"
   ],
   "metadata": {
    "collapsed": false,
    "ExecuteTime": {
     "start_time": "2023-05-02T16:32:31.533746Z",
     "end_time": "2023-05-02T16:32:33.204560Z"
    }
   }
  },
  {
   "cell_type": "code",
   "execution_count": 34,
   "outputs": [
    {
     "name": "stdout",
     "output_type": "stream",
     "text": [
      "RTing 0xWeb3Beast 1653482981116334083 effa2021ae066bf36e4fdd20d47eab6891ad89449831086d007bc628e24c4c5c\n"
     ]
    },
    {
     "ename": "Forbidden",
     "evalue": "403 Forbidden\nWhen authenticating requests to the Twitter API v2 endpoints, you must use keys and tokens from a Twitter developer App that is attached to a Project. You can create a project via the developer portal.",
     "output_type": "error",
     "traceback": [
      "\u001B[0;31m---------------------------------------------------------------------------\u001B[0m",
      "\u001B[0;31mForbidden\u001B[0m                                 Traceback (most recent call last)",
      "Cell \u001B[0;32mIn[34], line 3\u001B[0m\n\u001B[1;32m      1\u001B[0m actions \u001B[38;5;241m=\u001B[39m load_actions(soc_account, dev_account)\n\u001B[1;32m      2\u001B[0m executor \u001B[38;5;241m=\u001B[39m Executor()\n\u001B[0;32m----> 3\u001B[0m actions \u001B[38;5;241m=\u001B[39m \u001B[43mexec_next_action\u001B[49m\u001B[43m(\u001B[49m\u001B[43mexecutor\u001B[49m\u001B[43m,\u001B[49m\u001B[43m \u001B[49m\u001B[43mactions\u001B[49m\u001B[43m)\u001B[49m\n\u001B[1;32m      4\u001B[0m store_actions(actions)\n",
      "File \u001B[0;32m~/Development/peitho/executor.py:94\u001B[0m, in \u001B[0;36mexec_next_action\u001B[0;34m(executor, actions)\u001B[0m\n\u001B[1;32m     92\u001B[0m     _actions \u001B[38;5;241m=\u001B[39m update_actions_twee_id(_actions, tweet_id, action\u001B[38;5;241m.\u001B[39muuid)\n\u001B[1;32m     93\u001B[0m \u001B[38;5;28;01melif\u001B[39;00m \u001B[38;5;28misinstance\u001B[39m(action, RTAction):\n\u001B[0;32m---> 94\u001B[0m     \u001B[43mexecutor\u001B[49m\u001B[38;5;241;43m.\u001B[39;49m\u001B[43mrt\u001B[49m\u001B[43m(\u001B[49m\u001B[43maction\u001B[49m\u001B[38;5;241;43m.\u001B[39;49m\u001B[43maccount\u001B[49m\u001B[43m,\u001B[49m\u001B[43m \u001B[49m\u001B[43maction\u001B[49m\u001B[38;5;241;43m.\u001B[39;49m\u001B[43mtweet_id\u001B[49m\u001B[43m,\u001B[49m\u001B[43m \u001B[49m\u001B[43maction\u001B[49m\u001B[38;5;241;43m.\u001B[39;49m\u001B[43muuid\u001B[49m\u001B[43m)\u001B[49m\n\u001B[1;32m     95\u001B[0m \u001B[38;5;28;01melif\u001B[39;00m \u001B[38;5;28misinstance\u001B[39m(action, SRTAction):\n\u001B[1;32m     96\u001B[0m     executor\u001B[38;5;241m.\u001B[39msrt(action\u001B[38;5;241m.\u001B[39maccount, action\u001B[38;5;241m.\u001B[39mtweet_id, action\u001B[38;5;241m.\u001B[39muuid)\n",
      "File \u001B[0;32m~/Development/peitho/executor.py:54\u001B[0m, in \u001B[0;36mExecutor.rt\u001B[0;34m(self, account, tweet_id, uuid, srt)\u001B[0m\n\u001B[1;32m     52\u001B[0m \u001B[38;5;28mprint\u001B[39m(\u001B[38;5;124m\"\u001B[39m\u001B[38;5;124mSelf RTing\u001B[39m\u001B[38;5;124m\"\u001B[39m \u001B[38;5;28;01mif\u001B[39;00m srt \u001B[38;5;28;01melse\u001B[39;00m \u001B[38;5;124m\"\u001B[39m\u001B[38;5;124mRTing\u001B[39m\u001B[38;5;124m\"\u001B[39m, account\u001B[38;5;241m.\u001B[39mname, tweet_id, uuid)\n\u001B[1;32m     53\u001B[0m client \u001B[38;5;241m=\u001B[39m tweepy\u001B[38;5;241m.\u001B[39mClient(account\u001B[38;5;241m.\u001B[39mbearer_token)\n\u001B[0;32m---> 54\u001B[0m result \u001B[38;5;241m=\u001B[39m \u001B[43mclient\u001B[49m\u001B[38;5;241;43m.\u001B[39;49m\u001B[43mretweet\u001B[49m\u001B[43m(\u001B[49m\u001B[43mtweet_id\u001B[49m\u001B[43m,\u001B[49m\u001B[43m \u001B[49m\u001B[43muser_auth\u001B[49m\u001B[38;5;241;43m=\u001B[39;49m\u001B[38;5;28;43;01mFalse\u001B[39;49;00m\u001B[43m)\u001B[49m\n\u001B[1;32m     55\u001B[0m \u001B[38;5;28mprint\u001B[39m(result)\n\u001B[1;32m     56\u001B[0m result \u001B[38;5;241m=\u001B[39m client\u001B[38;5;241m.\u001B[39mlike(tweet_id, user_auth\u001B[38;5;241m=\u001B[39m\u001B[38;5;28;01mFalse\u001B[39;00m)\n",
      "File \u001B[0;32m/opt/homebrew/lib/python3.11/site-packages/tweepy/client.py:1063\u001B[0m, in \u001B[0;36mClient.retweet\u001B[0;34m(self, tweet_id, user_auth)\u001B[0m\n\u001B[1;32m   1060\u001B[0m \u001B[38;5;28mid\u001B[39m \u001B[38;5;241m=\u001B[39m \u001B[38;5;28mself\u001B[39m\u001B[38;5;241m.\u001B[39m_get_authenticating_user_id(oauth_1\u001B[38;5;241m=\u001B[39muser_auth)\n\u001B[1;32m   1061\u001B[0m route \u001B[38;5;241m=\u001B[39m \u001B[38;5;124mf\u001B[39m\u001B[38;5;124m\"\u001B[39m\u001B[38;5;124m/2/users/\u001B[39m\u001B[38;5;132;01m{\u001B[39;00m\u001B[38;5;28mid\u001B[39m\u001B[38;5;132;01m}\u001B[39;00m\u001B[38;5;124m/retweets\u001B[39m\u001B[38;5;124m\"\u001B[39m\n\u001B[0;32m-> 1063\u001B[0m \u001B[38;5;28;01mreturn\u001B[39;00m \u001B[38;5;28;43mself\u001B[39;49m\u001B[38;5;241;43m.\u001B[39;49m\u001B[43m_make_request\u001B[49m\u001B[43m(\u001B[49m\n\u001B[1;32m   1064\u001B[0m \u001B[43m    \u001B[49m\u001B[38;5;124;43m\"\u001B[39;49m\u001B[38;5;124;43mPOST\u001B[39;49m\u001B[38;5;124;43m\"\u001B[39;49m\u001B[43m,\u001B[49m\u001B[43m \u001B[49m\u001B[43mroute\u001B[49m\u001B[43m,\u001B[49m\u001B[43m \u001B[49m\u001B[43mjson\u001B[49m\u001B[38;5;241;43m=\u001B[39;49m\u001B[43m{\u001B[49m\u001B[38;5;124;43m\"\u001B[39;49m\u001B[38;5;124;43mtweet_id\u001B[39;49m\u001B[38;5;124;43m\"\u001B[39;49m\u001B[43m:\u001B[49m\u001B[43m \u001B[49m\u001B[38;5;28;43mstr\u001B[39;49m\u001B[43m(\u001B[49m\u001B[43mtweet_id\u001B[49m\u001B[43m)\u001B[49m\u001B[43m}\u001B[49m\u001B[43m,\u001B[49m\n\u001B[1;32m   1065\u001B[0m \u001B[43m    \u001B[49m\u001B[43muser_auth\u001B[49m\u001B[38;5;241;43m=\u001B[39;49m\u001B[43muser_auth\u001B[49m\n\u001B[1;32m   1066\u001B[0m \u001B[43m\u001B[49m\u001B[43m)\u001B[49m\n",
      "File \u001B[0;32m/opt/homebrew/lib/python3.11/site-packages/tweepy/client.py:129\u001B[0m, in \u001B[0;36mBaseClient._make_request\u001B[0;34m(self, method, route, params, endpoint_parameters, json, data_type, user_auth)\u001B[0m\n\u001B[1;32m    123\u001B[0m \u001B[38;5;28;01mdef\u001B[39;00m \u001B[38;5;21m_make_request\u001B[39m(\n\u001B[1;32m    124\u001B[0m     \u001B[38;5;28mself\u001B[39m, method, route, params\u001B[38;5;241m=\u001B[39m{}, endpoint_parameters\u001B[38;5;241m=\u001B[39m(), json\u001B[38;5;241m=\u001B[39m\u001B[38;5;28;01mNone\u001B[39;00m,\n\u001B[1;32m    125\u001B[0m     data_type\u001B[38;5;241m=\u001B[39m\u001B[38;5;28;01mNone\u001B[39;00m, user_auth\u001B[38;5;241m=\u001B[39m\u001B[38;5;28;01mFalse\u001B[39;00m\n\u001B[1;32m    126\u001B[0m ):\n\u001B[1;32m    127\u001B[0m     request_params \u001B[38;5;241m=\u001B[39m \u001B[38;5;28mself\u001B[39m\u001B[38;5;241m.\u001B[39m_process_params(params, endpoint_parameters)\n\u001B[0;32m--> 129\u001B[0m     response \u001B[38;5;241m=\u001B[39m \u001B[38;5;28;43mself\u001B[39;49m\u001B[38;5;241;43m.\u001B[39;49m\u001B[43mrequest\u001B[49m\u001B[43m(\u001B[49m\u001B[43mmethod\u001B[49m\u001B[43m,\u001B[49m\u001B[43m \u001B[49m\u001B[43mroute\u001B[49m\u001B[43m,\u001B[49m\u001B[43m \u001B[49m\u001B[43mparams\u001B[49m\u001B[38;5;241;43m=\u001B[39;49m\u001B[43mrequest_params\u001B[49m\u001B[43m,\u001B[49m\n\u001B[1;32m    130\u001B[0m \u001B[43m                            \u001B[49m\u001B[43mjson\u001B[49m\u001B[38;5;241;43m=\u001B[39;49m\u001B[43mjson\u001B[49m\u001B[43m,\u001B[49m\u001B[43m \u001B[49m\u001B[43muser_auth\u001B[49m\u001B[38;5;241;43m=\u001B[39;49m\u001B[43muser_auth\u001B[49m\u001B[43m)\u001B[49m\n\u001B[1;32m    132\u001B[0m     \u001B[38;5;28;01mif\u001B[39;00m \u001B[38;5;28mself\u001B[39m\u001B[38;5;241m.\u001B[39mreturn_type \u001B[38;5;129;01mis\u001B[39;00m requests\u001B[38;5;241m.\u001B[39mResponse:\n\u001B[1;32m    133\u001B[0m         \u001B[38;5;28;01mreturn\u001B[39;00m response\n",
      "File \u001B[0;32m/opt/homebrew/lib/python3.11/site-packages/tweepy/client.py:100\u001B[0m, in \u001B[0;36mBaseClient.request\u001B[0;34m(self, method, route, params, json, user_auth)\u001B[0m\n\u001B[1;32m     98\u001B[0m     \u001B[38;5;28;01mraise\u001B[39;00m Unauthorized(response)\n\u001B[1;32m     99\u001B[0m \u001B[38;5;28;01mif\u001B[39;00m response\u001B[38;5;241m.\u001B[39mstatus_code \u001B[38;5;241m==\u001B[39m \u001B[38;5;241m403\u001B[39m:\n\u001B[0;32m--> 100\u001B[0m     \u001B[38;5;28;01mraise\u001B[39;00m Forbidden(response)\n\u001B[1;32m    101\u001B[0m \u001B[38;5;28;01mif\u001B[39;00m response\u001B[38;5;241m.\u001B[39mstatus_code \u001B[38;5;241m==\u001B[39m \u001B[38;5;241m404\u001B[39m:\n\u001B[1;32m    102\u001B[0m     \u001B[38;5;28;01mraise\u001B[39;00m NotFound(response)\n",
      "\u001B[0;31mForbidden\u001B[0m: 403 Forbidden\nWhen authenticating requests to the Twitter API v2 endpoints, you must use keys and tokens from a Twitter developer App that is attached to a Project. You can create a project via the developer portal."
     ]
    }
   ],
   "source": [
    "actions = load_actions(soc_account, dev_account)\n",
    "executor = Executor()\n",
    "actions = exec_next_action(executor, actions)\n",
    "store_actions(actions)"
   ],
   "metadata": {
    "collapsed": false,
    "ExecuteTime": {
     "start_time": "2023-05-02T16:35:49.682641Z",
     "end_time": "2023-05-02T16:35:50.767674Z"
    }
   }
  },
  {
   "cell_type": "code",
   "execution_count": 82,
   "outputs": [
    {
     "name": "stdout",
     "output_type": "stream",
     "text": [
      "0 None\n",
      "1 ./content/jka/001.png\n",
      "2 None\n",
      "3 None\n",
      "4 None\n",
      "5 None\n",
      "6 None\n",
      "7 None\n",
      "8 None\n",
      "9 None\n",
      "10 None\n",
      "11 None\n",
      "12 None\n",
      "13 None\n",
      "14 None\n",
      "15 None\n",
      "16 None\n",
      "17 None\n",
      "18 None\n",
      "19 None\n",
      "20 None\n",
      "21 None\n",
      "22 None\n",
      "23 None\n",
      "24 None\n",
      "25 None\n",
      "26 None\n",
      "27 None\n",
      "28 None\n",
      "29 None\n",
      "30 None\n",
      "31 None\n",
      "32 None\n",
      "33 None\n",
      "34 None\n",
      "35 None\n",
      "36 None\n"
     ]
    }
   ],
   "source": [
    "import pandas\n",
    "import tweepy\n",
    "from post import Post\n",
    "from typing import List\n",
    "\n",
    "def image_path(id: str, path: str) -> str:\n",
    "    paths = os.listdir(path)\n",
    "    if f\"{id}.png\" in paths:\n",
    "        return f\"{path}/{id}.png\"\n",
    "    if f\"{id}.jpg\" in paths:\n",
    "        return f\"{path}/{id}.jpg\"\n",
    "    if f\"{id}.jpeg\" in paths:\n",
    "        return f\"{path}/{id}.jpeg\"\n",
    "    return None\n",
    "\n",
    "def post_from(id: str, text: str, path: str) -> Post:\n",
    "    return Post(\n",
    "        int(curr_id),\n",
    "        text=curr_text if len(curr_text) > 0 else None,\n",
    "        img_path=image_path(curr_id, path)\n",
    "    )\n",
    "\n",
    "LIST_CONTENT_PATH = \"./content\"\n",
    "\n",
    "name = \"jka\"\n",
    "path = LIST_CONTENT_PATH + f\"/{name}\"\n",
    "\n",
    "posts: List[Post] = list()\n",
    "curr_text: str = \"\"\n",
    "curr_id: str = 0\n",
    "with open(path + \"/text.txt\", \"r\") as file:\n",
    "    while True:\n",
    "        line = file.readline()\n",
    "        if not line:\n",
    "            break\n",
    "        if line[0:3] == \"#ID\":\n",
    "            curr_id = line[3:].strip()\n",
    "            curr_text = curr_text.strip()\n",
    "            if len(curr_text) <= 280:\n",
    "                posts.append(post_from(curr_id, curr_text, path))\n",
    "            else:\n",
    "                print(\"dropping\", curr_id, len(curr_text))\n",
    "            curr_text = \"\"\n",
    "        else:\n",
    "            curr_text += line\n",
    "\n",
    "for post in posts:\n",
    "    print(post.id, post.img_path)\n",
    "\n"
   ],
   "metadata": {
    "collapsed": false,
    "ExecuteTime": {
     "start_time": "2023-05-02T20:32:43.141629Z",
     "end_time": "2023-05-02T20:32:43.149999Z"
    }
   }
  },
  {
   "cell_type": "code",
   "execution_count": null,
   "outputs": [],
   "source": [],
   "metadata": {
    "collapsed": false
   }
  }
 ],
 "metadata": {
  "kernelspec": {
   "display_name": "Python 3",
   "language": "python",
   "name": "python3"
  },
  "language_info": {
   "codemirror_mode": {
    "name": "ipython",
    "version": 3
   },
   "file_extension": ".py",
   "mimetype": "text/x-python",
   "name": "python",
   "nbconvert_exporter": "python",
   "pygments_lexer": "ipython3",
   "version": "3.7.5"
  }
 },
 "nbformat": 4,
 "nbformat_minor": 2
}
