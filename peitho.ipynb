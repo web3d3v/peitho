{
 "cells": [
  {
   "cell_type": "code",
   "execution_count": 4,
   "outputs": [
    {
     "name": "stdout",
     "output_type": "stream",
     "text": [
      "sonsofcryptolabs web3dev\n"
     ]
    }
   ],
   "source": [
    "import os\n",
    "from dotenv import load_dotenv\n",
    "from account import Account, load_accounts, load_mock_accounts\n",
    "from action import load_actions, store_actions\n",
    "from executor import MockExecutor, Executor, exec_next_action\n",
    "\n",
    "load_dotenv()\n",
    "\n",
    "CUSTOMER_API_KEY = os.getenv(\"CUSTOMER_API_KEY\")\n",
    "CUSTOMER_API_KEY_SECRET = os.getenv(\"CUSTOMER_API_KEY_SECRET\")\n",
    "CLIENT_ID = os.getenv(\"CLIENT_ID\")\n",
    "CLIENT_SECRET = os.getenv(\"CLIENT_SECRET\")\n",
    "\n",
    "MOCK = True\n",
    "\n",
    "soc_account, dev_account = load_mock_accounts() if MOCK else load_accounts()\n",
    "print(soc_account.name, dev_account.name)"
   ],
   "metadata": {
    "collapsed": false,
    "ExecuteTime": {
     "start_time": "2023-05-06T18:23:32.559500Z",
     "end_time": "2023-05-06T18:23:32.571912Z"
    }
   }
  },
  {
   "cell_type": "code",
   "execution_count": 5,
   "outputs": [
    {
     "name": "stdout",
     "output_type": "stream",
     "text": [
      "False\n"
     ]
    }
   ],
   "source": [
    "actions = load_actions(soc_account, dev_account, MOCK)\n",
    "executor = Executor()\n",
    "actions = exec_next_action(executor, actions)\n",
    "store_actions(actions, MOCK)"
   ],
   "metadata": {
    "collapsed": false,
    "ExecuteTime": {
     "start_time": "2023-05-06T18:23:34.488467Z",
     "end_time": "2023-05-06T18:23:34.535832Z"
    }
   }
  },
  {
   "cell_type": "code",
   "execution_count": 15,
   "outputs": [
    {
     "name": "stdout",
     "output_type": "stream",
     "text": [
      "0 None\n",
      "1 ./content/mem/001.jpg\n",
      "2 ./content/mem/002.png\n",
      "3 ./content/mem/003.jpeg\n",
      "4 ./content/mem/004.jpg\n",
      "5 ./content/mem/005.jpg\n",
      "6 ./content/mem/006.jpg\n",
      "7 ./content/mem/007.jpg\n",
      "8 ./content/mem/008.jpeg\n",
      "9 ./content/mem/009.png\n",
      "10 ./content/mem/010.png\n",
      "11 ./content/mem/011.png\n",
      "12 ./content/mem/012.jpg\n",
      "13 ./content/mem/013.png\n",
      "14 ./content/mem/014.jpg\n",
      "15 ./content/mem/015.jpg\n",
      "16 ./content/mem/016.jpg\n",
      "17 ./content/mem/017.jpg\n",
      "18 ./content/mem/018.jpg\n",
      "19 ./content/mem/019.png\n",
      "20 ./content/mem/020.png\n",
      "21 ./content/mem/021.jpg\n",
      "22 ./content/mem/022.png\n",
      "23 ./content/mem/023.png\n",
      "24 ./content/mem/024.png\n",
      "25 ./content/mem/025.png\n",
      "26 ./content/mem/026.png\n",
      "27 ./content/mem/027.png\n",
      "28 ./content/mem/028.png\n",
      "29 ./content/mem/029.png\n"
     ]
    }
   ],
   "source": [
    "import pandas\n",
    "import tweepy\n",
    "from post import Post\n",
    "from typing import List\n",
    "\n",
    "def image_path(id: str, path: str) -> str:\n",
    "    paths = os.listdir(path)\n",
    "    if f\"{id}.png\" in paths:\n",
    "        return f\"{path}/{id}.png\"\n",
    "    if f\"{id}.jpg\" in paths:\n",
    "        return f\"{path}/{id}.jpg\"\n",
    "    if f\"{id}.jpeg\" in paths:\n",
    "        return f\"{path}/{id}.jpeg\"\n",
    "    return None\n",
    "\n",
    "def post_from(id: str, text: str, path: str) -> Post:\n",
    "    return Post(\n",
    "        int(curr_id),\n",
    "        text=curr_text if len(curr_text) > 0 else None,\n",
    "        img_path=image_path(curr_id, path)\n",
    "    )\n",
    "\n",
    "LIST_CONTENT_PATH = \"./content\"\n",
    "\n",
    "name = \"mem\"\n",
    "path = LIST_CONTENT_PATH + f\"/{name}\"\n",
    "\n",
    "posts: List[Post] = list()\n",
    "curr_text: str = \"\"\n",
    "curr_id: str = 0\n",
    "with open(path + \"/text.txt\", \"r\") as file:\n",
    "    while True:\n",
    "        line = file.readline()\n",
    "        if not line:\n",
    "            break\n",
    "        if line[0:3] == \"#ID\":\n",
    "            curr_id = line[3:].strip()\n",
    "            curr_text = curr_text.strip()\n",
    "            if len(curr_text) <= 280:\n",
    "                posts.append(post_from(curr_id, curr_text, path))\n",
    "            else:\n",
    "                print(\"dropping\", curr_id, len(curr_text))\n",
    "            curr_text = \"\"\n",
    "        else:\n",
    "\n",
    "            curr_text += line\n",
    "\n",
    "for post in posts:\n",
    "    print(post.id, post.img_path)\n",
    "\n"
   ],
   "metadata": {
    "collapsed": false,
    "ExecuteTime": {
     "start_time": "2023-05-06T08:35:10.924624Z",
     "end_time": "2023-05-06T08:35:10.926989Z"
    }
   }
  }
 ],
 "metadata": {
  "kernelspec": {
   "display_name": "Python 3",
   "language": "python",
   "name": "python3"
  },
  "language_info": {
   "codemirror_mode": {
    "name": "ipython",
    "version": 3
   },
   "file_extension": ".py",
   "mimetype": "text/x-python",
   "name": "python",
   "nbconvert_exporter": "python",
   "pygments_lexer": "ipython3",
   "version": "3.7.5"
  }
 },
 "nbformat": 4,
 "nbformat_minor": 2
}
