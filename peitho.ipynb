{
 "cells": [
  {
   "cell_type": "code",
   "execution_count": 1,
   "outputs": [
    {
     "name": "stdout",
     "output_type": "stream",
     "text": [
      "{'token_type': 'bearer', 'expires_in': 7200, 'access_token': 'LUlJMTFGM1JoN1FHSkEyTFJBZmFrUy1lNWw3QWJiUE5SaEhLMUJ0X0ZoNk5TOjE2ODM0NTMzNjU0NjY6MToxOmF0OjE', 'scope': ['follows.read', 'offline.access', 'tweet.write', 'like.write', 'users.read', 'tweet.read'], 'refresh_token': 'WUdpcWxuajhrRk9lZmlTWGRMbW82b2dVS2ZhZnJsMUVCQ2N1aksxNndicFRNOjE2ODM0NTMzNjU0NjY6MTowOnJ0OjE', 'expires_at': 1683460642.943203}\n",
      "{'token_type': 'bearer', 'expires_in': 7200, 'access_token': 'M3lHT1dObGVqZFhWcTQ2YlFRNnZsclphOUg2TkpyV0JBY0czbXhhcFNUaExMOjE2ODM0NTMzNjYyNTI6MTowOmF0OjE', 'scope': ['follows.read', 'offline.access', 'tweet.write', 'like.write', 'users.read', 'tweet.read'], 'refresh_token': 'TERoTHZMVkpVNHJqdHo1MG9KUkRzTl9GNlN0UVNrOW1nMHd6b0FQdUFBN1k2OjE2ODM0NTMzNjYyNTI6MToxOnJ0OjE', 'expires_at': 1683460643.733951}\n",
      "sonsofcryptolabs web3dev\n"
     ]
    }
   ],
   "source": [
    "import os\n",
    "from dotenv import load_dotenv\n",
    "from account import Account, load_accounts, load_mock_accounts\n",
    "from action import load_actions, store_actions\n",
    "from executor import MockExecutor, Executor, exec_next_action\n",
    "\n",
    "load_dotenv()\n",
    "\n",
    "CUSTOMER_API_KEY = os.getenv(\"CUSTOMER_API_KEY\")\n",
    "CUSTOMER_API_KEY_SECRET = os.getenv(\"CUSTOMER_API_KEY_SECRET\")\n",
    "CLIENT_ID = os.getenv(\"CLIENT_ID\")\n",
    "CLIENT_SECRET = os.getenv(\"CLIENT_SECRET\")\n",
    "\n",
    "MOCK = True\n",
    "\n",
    "soc_account, dev_account = load_mock_accounts() if MOCK else load_accounts()\n",
    "print(soc_account.name, dev_account.name)"
   ],
   "metadata": {
    "collapsed": false,
    "ExecuteTime": {
     "start_time": "2023-05-07T06:57:21.839663Z",
     "end_time": "2023-05-07T06:57:23.743925Z"
    }
   }
  },
  {
   "cell_type": "code",
   "execution_count": 5,
   "outputs": [
    {
     "name": "stdout",
     "output_type": "stream",
     "text": [
      "Posting sonsofcryptolabs 0 \"Privacy is not a crime.\"\n",
      "\n",
      "- Anonymous ./content/cpa/000.png\n",
      "Account sonsofcryptolabs LUlJMTFGM1JoN1FHSkEyTFJBZmFrUy1lNWw3QWJiUE5SaEhLMUJ0X0ZoNk5TOjE2ODM0NTMzNjU0NjY6MToxOmF0OjE\n"
     ]
    },
    {
     "ename": "TooManyRequests",
     "evalue": "429 Too Many Requests\nToo Many Requests",
     "output_type": "error",
     "traceback": [
      "\u001B[0;31m---------------------------------------------------------------------------\u001B[0m",
      "\u001B[0;31mTooManyRequests\u001B[0m                           Traceback (most recent call last)",
      "Cell \u001B[0;32mIn[5], line 3\u001B[0m\n\u001B[1;32m      1\u001B[0m actions \u001B[38;5;241m=\u001B[39m load_actions(soc_account, dev_account, MOCK)\n\u001B[1;32m      2\u001B[0m executor \u001B[38;5;241m=\u001B[39m Executor()\n\u001B[0;32m----> 3\u001B[0m actions \u001B[38;5;241m=\u001B[39m \u001B[43mexec_next_action\u001B[49m\u001B[43m(\u001B[49m\u001B[43mexecutor\u001B[49m\u001B[43m,\u001B[49m\u001B[43m \u001B[49m\u001B[43mactions\u001B[49m\u001B[43m)\u001B[49m\n\u001B[1;32m      4\u001B[0m store_actions(actions, MOCK)\n",
      "File \u001B[0;32m~/Development/peitho/executor.py:100\u001B[0m, in \u001B[0;36mexec_next_action\u001B[0;34m(executor, actions)\u001B[0m\n\u001B[1;32m     97\u001B[0m action \u001B[38;5;241m=\u001B[39m _actions\u001B[38;5;241m.\u001B[39mpop(\u001B[38;5;241m0\u001B[39m)\n\u001B[1;32m     99\u001B[0m \u001B[38;5;28;01mif\u001B[39;00m \u001B[38;5;28misinstance\u001B[39m(action, PostAction):\n\u001B[0;32m--> 100\u001B[0m     tweet_id \u001B[38;5;241m=\u001B[39m \u001B[43mexecutor\u001B[49m\u001B[38;5;241;43m.\u001B[39;49m\u001B[43mpost\u001B[49m\u001B[43m(\u001B[49m\u001B[43maction\u001B[49m\u001B[38;5;241;43m.\u001B[39;49m\u001B[43maccount\u001B[49m\u001B[43m,\u001B[49m\u001B[43m \u001B[49m\u001B[43maction\u001B[49m\u001B[38;5;241;43m.\u001B[39;49m\u001B[43mpost\u001B[49m\u001B[43m)\u001B[49m\n\u001B[1;32m    101\u001B[0m     tweet_url \u001B[38;5;241m=\u001B[39m \u001B[38;5;124mf\u001B[39m\u001B[38;5;124m\"\u001B[39m\u001B[38;5;124mhttps://twitter.com/\u001B[39m\u001B[38;5;132;01m{\u001B[39;00maction\u001B[38;5;241m.\u001B[39maccount\u001B[38;5;241m.\u001B[39mname\u001B[38;5;132;01m}\u001B[39;00m\u001B[38;5;124m/status/\u001B[39m\u001B[38;5;132;01m{\u001B[39;00mtweet_id\u001B[38;5;132;01m}\u001B[39;00m\u001B[38;5;124m\"\u001B[39m\n\u001B[1;32m    102\u001B[0m     _actions \u001B[38;5;241m=\u001B[39m update_actions_twee_id(_actions, tweet_id, tweet_url, action\u001B[38;5;241m.\u001B[39muuid)\n",
      "File \u001B[0;32m~/Development/peitho/executor.py:50\u001B[0m, in \u001B[0;36mExecutor.post\u001B[0;34m(self, account, post)\u001B[0m\n\u001B[1;32m     48\u001B[0m     media \u001B[38;5;241m=\u001B[39m api\u001B[38;5;241m.\u001B[39mmedia_upload(filename\u001B[38;5;241m=\u001B[39mpost\u001B[38;5;241m.\u001B[39mimg_path)\n\u001B[1;32m     49\u001B[0m     media_ids \u001B[38;5;241m=\u001B[39m [media\u001B[38;5;241m.\u001B[39mmedia_id]\n\u001B[0;32m---> 50\u001B[0m result \u001B[38;5;241m=\u001B[39m \u001B[43mclient\u001B[49m\u001B[38;5;241;43m.\u001B[39;49m\u001B[43mcreate_tweet\u001B[49m\u001B[43m(\u001B[49m\u001B[43mtext\u001B[49m\u001B[38;5;241;43m=\u001B[39;49m\u001B[43mpost\u001B[49m\u001B[38;5;241;43m.\u001B[39;49m\u001B[43mtext\u001B[49m\u001B[43m,\u001B[49m\u001B[43m \u001B[49m\u001B[43mmedia_ids\u001B[49m\u001B[38;5;241;43m=\u001B[39;49m\u001B[43mmedia_ids\u001B[49m\u001B[43m,\u001B[49m\u001B[43m \u001B[49m\u001B[43muser_auth\u001B[49m\u001B[38;5;241;43m=\u001B[39;49m\u001B[38;5;28;43;01mFalse\u001B[39;49;00m\u001B[43m)\u001B[49m\n\u001B[1;32m     51\u001B[0m \u001B[38;5;28mprint\u001B[39m(result)\n\u001B[1;32m     52\u001B[0m \u001B[38;5;28;01mreturn\u001B[39;00m result\u001B[38;5;241m.\u001B[39mdata[\u001B[38;5;124m\"\u001B[39m\u001B[38;5;124mid\u001B[39m\u001B[38;5;124m\"\u001B[39m]\n",
      "File \u001B[0;32m/opt/homebrew/lib/python3.11/site-packages/tweepy/client.py:835\u001B[0m, in \u001B[0;36mClient.create_tweet\u001B[0;34m(self, direct_message_deep_link, for_super_followers_only, place_id, media_ids, media_tagged_user_ids, poll_duration_minutes, poll_options, quote_tweet_id, exclude_reply_user_ids, in_reply_to_tweet_id, reply_settings, text, user_auth)\u001B[0m\n\u001B[1;32m    832\u001B[0m \u001B[38;5;28;01mif\u001B[39;00m text \u001B[38;5;129;01mis\u001B[39;00m \u001B[38;5;129;01mnot\u001B[39;00m \u001B[38;5;28;01mNone\u001B[39;00m:\n\u001B[1;32m    833\u001B[0m     json[\u001B[38;5;124m\"\u001B[39m\u001B[38;5;124mtext\u001B[39m\u001B[38;5;124m\"\u001B[39m] \u001B[38;5;241m=\u001B[39m text\n\u001B[0;32m--> 835\u001B[0m \u001B[38;5;28;01mreturn\u001B[39;00m \u001B[38;5;28;43mself\u001B[39;49m\u001B[38;5;241;43m.\u001B[39;49m\u001B[43m_make_request\u001B[49m\u001B[43m(\u001B[49m\n\u001B[1;32m    836\u001B[0m \u001B[43m    \u001B[49m\u001B[38;5;124;43m\"\u001B[39;49m\u001B[38;5;124;43mPOST\u001B[39;49m\u001B[38;5;124;43m\"\u001B[39;49m\u001B[43m,\u001B[49m\u001B[43m \u001B[49m\u001B[38;5;124;43mf\u001B[39;49m\u001B[38;5;124;43m\"\u001B[39;49m\u001B[38;5;124;43m/2/tweets\u001B[39;49m\u001B[38;5;124;43m\"\u001B[39;49m\u001B[43m,\u001B[49m\u001B[43m \u001B[49m\u001B[43mjson\u001B[49m\u001B[38;5;241;43m=\u001B[39;49m\u001B[43mjson\u001B[49m\u001B[43m,\u001B[49m\u001B[43m \u001B[49m\u001B[43muser_auth\u001B[49m\u001B[38;5;241;43m=\u001B[39;49m\u001B[43muser_auth\u001B[49m\n\u001B[1;32m    837\u001B[0m \u001B[43m\u001B[49m\u001B[43m)\u001B[49m\n",
      "File \u001B[0;32m/opt/homebrew/lib/python3.11/site-packages/tweepy/client.py:129\u001B[0m, in \u001B[0;36mBaseClient._make_request\u001B[0;34m(self, method, route, params, endpoint_parameters, json, data_type, user_auth)\u001B[0m\n\u001B[1;32m    123\u001B[0m \u001B[38;5;28;01mdef\u001B[39;00m \u001B[38;5;21m_make_request\u001B[39m(\n\u001B[1;32m    124\u001B[0m     \u001B[38;5;28mself\u001B[39m, method, route, params\u001B[38;5;241m=\u001B[39m{}, endpoint_parameters\u001B[38;5;241m=\u001B[39m(), json\u001B[38;5;241m=\u001B[39m\u001B[38;5;28;01mNone\u001B[39;00m,\n\u001B[1;32m    125\u001B[0m     data_type\u001B[38;5;241m=\u001B[39m\u001B[38;5;28;01mNone\u001B[39;00m, user_auth\u001B[38;5;241m=\u001B[39m\u001B[38;5;28;01mFalse\u001B[39;00m\n\u001B[1;32m    126\u001B[0m ):\n\u001B[1;32m    127\u001B[0m     request_params \u001B[38;5;241m=\u001B[39m \u001B[38;5;28mself\u001B[39m\u001B[38;5;241m.\u001B[39m_process_params(params, endpoint_parameters)\n\u001B[0;32m--> 129\u001B[0m     response \u001B[38;5;241m=\u001B[39m \u001B[38;5;28;43mself\u001B[39;49m\u001B[38;5;241;43m.\u001B[39;49m\u001B[43mrequest\u001B[49m\u001B[43m(\u001B[49m\u001B[43mmethod\u001B[49m\u001B[43m,\u001B[49m\u001B[43m \u001B[49m\u001B[43mroute\u001B[49m\u001B[43m,\u001B[49m\u001B[43m \u001B[49m\u001B[43mparams\u001B[49m\u001B[38;5;241;43m=\u001B[39;49m\u001B[43mrequest_params\u001B[49m\u001B[43m,\u001B[49m\n\u001B[1;32m    130\u001B[0m \u001B[43m                            \u001B[49m\u001B[43mjson\u001B[49m\u001B[38;5;241;43m=\u001B[39;49m\u001B[43mjson\u001B[49m\u001B[43m,\u001B[49m\u001B[43m \u001B[49m\u001B[43muser_auth\u001B[49m\u001B[38;5;241;43m=\u001B[39;49m\u001B[43muser_auth\u001B[49m\u001B[43m)\u001B[49m\n\u001B[1;32m    132\u001B[0m     \u001B[38;5;28;01mif\u001B[39;00m \u001B[38;5;28mself\u001B[39m\u001B[38;5;241m.\u001B[39mreturn_type \u001B[38;5;129;01mis\u001B[39;00m requests\u001B[38;5;241m.\u001B[39mResponse:\n\u001B[1;32m    133\u001B[0m         \u001B[38;5;28;01mreturn\u001B[39;00m response\n",
      "File \u001B[0;32m/opt/homebrew/lib/python3.11/site-packages/tweepy/client.py:115\u001B[0m, in \u001B[0;36mBaseClient.request\u001B[0;34m(self, method, route, params, json, user_auth)\u001B[0m\n\u001B[1;32m    113\u001B[0m         \u001B[38;5;28;01mreturn\u001B[39;00m \u001B[38;5;28mself\u001B[39m\u001B[38;5;241m.\u001B[39mrequest(method, route, params, json, user_auth)\n\u001B[1;32m    114\u001B[0m     \u001B[38;5;28;01melse\u001B[39;00m:\n\u001B[0;32m--> 115\u001B[0m         \u001B[38;5;28;01mraise\u001B[39;00m TooManyRequests(response)\n\u001B[1;32m    116\u001B[0m \u001B[38;5;28;01mif\u001B[39;00m response\u001B[38;5;241m.\u001B[39mstatus_code \u001B[38;5;241m>\u001B[39m\u001B[38;5;241m=\u001B[39m \u001B[38;5;241m500\u001B[39m:\n\u001B[1;32m    117\u001B[0m     \u001B[38;5;28;01mraise\u001B[39;00m TwitterServerError(response)\n",
      "\u001B[0;31mTooManyRequests\u001B[0m: 429 Too Many Requests\nToo Many Requests"
     ]
    }
   ],
   "source": [
    "actions = load_actions(soc_account, dev_account, MOCK)\n",
    "executor = Executor()\n",
    "actions = exec_next_action(executor, actions)\n",
    "store_actions(actions, MOCK)"
   ],
   "metadata": {
    "collapsed": false,
    "ExecuteTime": {
     "start_time": "2023-05-06T18:23:34.488467Z",
     "end_time": "2023-05-06T18:23:34.535832Z"
    }
   }
  },
  {
   "cell_type": "code",
   "execution_count": 15,
   "outputs": [
    {
     "name": "stdout",
     "output_type": "stream",
     "text": [
      "0 None\n",
      "1 ./content/mem/001.jpg\n",
      "2 ./content/mem/002.png\n",
      "3 ./content/mem/003.jpeg\n",
      "4 ./content/mem/004.jpg\n",
      "5 ./content/mem/005.jpg\n",
      "6 ./content/mem/006.jpg\n",
      "7 ./content/mem/007.jpg\n",
      "8 ./content/mem/008.jpeg\n",
      "9 ./content/mem/009.png\n",
      "10 ./content/mem/010.png\n",
      "11 ./content/mem/011.png\n",
      "12 ./content/mem/012.jpg\n",
      "13 ./content/mem/013.png\n",
      "14 ./content/mem/014.jpg\n",
      "15 ./content/mem/015.jpg\n",
      "16 ./content/mem/016.jpg\n",
      "17 ./content/mem/017.jpg\n",
      "18 ./content/mem/018.jpg\n",
      "19 ./content/mem/019.png\n",
      "20 ./content/mem/020.png\n",
      "21 ./content/mem/021.jpg\n",
      "22 ./content/mem/022.png\n",
      "23 ./content/mem/023.png\n",
      "24 ./content/mem/024.png\n",
      "25 ./content/mem/025.png\n",
      "26 ./content/mem/026.png\n",
      "27 ./content/mem/027.png\n",
      "28 ./content/mem/028.png\n",
      "29 ./content/mem/029.png\n"
     ]
    }
   ],
   "source": [
    "import pandas\n",
    "import tweepy\n",
    "import pathlib\n",
    "from post import Post\n",
    "from typing import List\n",
    "\n",
    "def image_path(id: str, path: str) -> str:\n",
    "    paths = os.listdir(path)\n",
    "    if f\"{id}.png\" in paths:\n",
    "        return f\"{path}/{id}.png\"\n",
    "    if f\"{id}.jpg\" in paths:\n",
    "        return f\"{path}/{id}.jpg\"\n",
    "    if f\"{id}.jpeg\" in paths:\n",
    "        return f\"{path}/{id}.jpeg\"\n",
    "    return None\n",
    "\n",
    "def post_from(id: str, text: str, path: str) -> Post:\n",
    "    return Post(\n",
    "        int(curr_id),\n",
    "        text=curr_text if len(curr_text) > 0 else None,\n",
    "        img_path=image_path(curr_id, path)\n",
    "    )\n",
    "\n",
    "PATH = pathlib.Path(__file__).parent.resolve()\n",
    "LIST_CONTENT_PATH = f\"{PATH}/content\"\n",
    "\n",
    "name = \"mem\"\n",
    "path = LIST_CONTENT_PATH + f\"/{name}\"\n",
    "\n",
    "posts: List[Post] = list()\n",
    "curr_text: str = \"\"\n",
    "curr_id: str = 0\n",
    "with open(path + \"/text.txt\", \"r\") as file:\n",
    "    while True:\n",
    "        line = file.readline()\n",
    "        if not line:\n",
    "            break\n",
    "        if line[0:3] == \"#ID\":\n",
    "            curr_id = line[3:].strip()\n",
    "            curr_text = curr_text.strip()\n",
    "            if len(curr_text) <= 280:\n",
    "                posts.append(post_from(curr_id, curr_text, path))\n",
    "            else:\n",
    "                print(\"dropping\", curr_id, len(curr_text))\n",
    "            curr_text = \"\"\n",
    "        else:\n",
    "\n",
    "            curr_text += line\n",
    "\n",
    "for post in posts:\n",
    "    print(post.id, post.img_path)\n",
    "\n"
   ],
   "metadata": {
    "collapsed": false,
    "ExecuteTime": {
     "start_time": "2023-05-06T08:35:10.924624Z",
     "end_time": "2023-05-06T08:35:10.926989Z"
    }
   }
  },
  {
   "cell_type": "code",
   "execution_count": 23,
   "outputs": [],
   "source": [
    "# telegram bot\n",
    "import telegram\n",
    "import os\n",
    "from dotenv import load_dotenv\n",
    "import asyncio\n",
    "\n",
    "load_dotenv()\n",
    "\n",
    "\n",
    "TG_BOT_TOKEN = os.getenv(\"TG_BOT_TOKEN\")\n",
    "\n",
    "async def some_fn():\n",
    "    print(TG_BOT_TOKEN)\n",
    "    bot = telegram.Bot(TG_BOT_TOKEN)\n",
    "    async with bot:\n",
    "        bot.send_message(text='Testing TG bot', chat_id=\"-1001481837102\")\n",
    "\n",
    "def workaround():\n",
    "    bot = telegram.Bot(TG_BOT_TOKEN)\n",
    "    # bot.send_message(text='Testing TG bot', chat_id=\"-1001481837102\")\n",
    "    asyncio.ensure_future(bot.send_message(text='Testing TG bot', chat_id=\"-1001481837102\"))\n",
    "\n",
    "workaround()\n",
    "\n"
   ],
   "metadata": {
    "collapsed": false,
    "ExecuteTime": {
     "end_time": "2023-05-25T14:23:29.560280193Z",
     "start_time": "2023-05-25T14:23:29.506505966Z"
    }
   }
  },
  {
   "cell_type": "code",
   "execution_count": 26,
   "outputs": [
    {
     "name": "stdout",
     "output_type": "stream",
     "text": [
      "<Response [204]>\n"
     ]
    }
   ],
   "source": [
    "import os\n",
    "from dotenv import load_dotenv\n",
    "import json\n",
    "import requests\n",
    "\n",
    "load_dotenv()\n",
    "\n",
    "DISCORD_WEBHOOK_URL = os.getenv(\"DISCORD_WEBHOOK_URL\")\n",
    "\n",
    "\n",
    "def sendToDiscord(webhook_url, message):\n",
    "    \"\"\"\n",
    "    Post a message to discord API via a Webhook.\n",
    "    \"\"\"\n",
    "    payload = { \"content\": message }\n",
    "    headers = { 'Content-Type': 'application/json'}\n",
    "    response = requests.post(webhook_url, data=json.dumps(payload), headers=headers)\n",
    "    print(response)\n",
    "\n",
    "sendToDiscord(DISCORD_WEBHOOK_URL, \"https://twitter.com/sonsofcryptolab/status/1661535944351137793\")"
   ],
   "metadata": {
    "collapsed": false,
    "ExecuteTime": {
     "end_time": "2023-05-25T15:50:24.499501823Z",
     "start_time": "2023-05-25T15:50:23.522389946Z"
    }
   }
  }
 ],
 "metadata": {
  "kernelspec": {
   "display_name": "Python 3",
   "language": "python",
   "name": "python3"
  },
  "language_info": {
   "codemirror_mode": {
    "name": "ipython",
    "version": 3
   },
   "file_extension": ".py",
   "mimetype": "text/x-python",
   "name": "python",
   "nbconvert_exporter": "python",
   "pygments_lexer": "ipython3",
   "version": "3.7.5"
  }
 },
 "nbformat": 4,
 "nbformat_minor": 2
}
