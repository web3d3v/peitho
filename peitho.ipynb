{
 "cells": [
  {
   "cell_type": "code",
   "execution_count": 73,
   "outputs": [],
   "source": [
    "import jsonpickle\n",
    "import hashlib\n",
    "import numpy as np\n",
    "\n",
    "class Account:\n",
    "    name: str\n",
    "\n",
    "    def __init__(self, name: str):\n",
    "        self.name = name\n",
    "\n",
    "    def __str__(self):\n",
    "        return \"Account(name: {})\".format(self.name)\n",
    "\n",
    "    def __repr__(self):\n",
    "        return  self.__str__()\n",
    "\n",
    "class Post:\n",
    "    id: int\n",
    "    text: str\n",
    "    img_path: str\n",
    "\n",
    "    def __init__(self, id: int, text: str, img_path: str):\n",
    "        self.id = id\n",
    "        self.text = text\n",
    "        self.img_path = text\n",
    "\n",
    "    def uuid(self) -> str:\n",
    "        digest = hashlib.sha256()\n",
    "        digest.update(self.__str__().encode(\"utf-8\"))\n",
    "        return digest.hexdigest()\n",
    "\n",
    "    def __str__(self):\n",
    "        return \"Post(id: {}, text: {}, img_path: {})\"\\\n",
    "            .format(self.id, self.text, self.img_path)\n",
    "\n",
    "    def __repr__(self):\n",
    "        return \"Post(id: {}, text: {}, img_path: {})\"\\\n",
    "            .format(self.id, self.text, self.img_path)\n",
    "\n",
    "class Action:\n",
    "    uuid: str\n",
    "    account: Account\n",
    "\n",
    "class PostAction(Action):\n",
    "    post: Post\n",
    "\n",
    "    def __init__(self, account: Account, post: Post):\n",
    "        self.uuid = post.uuid()\n",
    "        self.account = account\n",
    "        self.post = post\n",
    "\n",
    "class RTAction(Action):\n",
    "    url: str = None\n",
    "\n",
    "    def __init__(self, account: Account, post: Post):\n",
    "        self.uuid = post.uuid()\n",
    "        self.account = account\n",
    "\n",
    "class SRTAction(Action):\n",
    "    url: str = None\n",
    "\n",
    "    def __init__(self, account: Account, post: Post):\n",
    "        self.uuid = post.uuid()\n",
    "        self.account = account\n"
   ],
   "metadata": {
    "collapsed": false,
    "ExecuteTime": {
     "start_time": "2023-04-26T16:33:52.323886Z",
     "end_time": "2023-04-26T16:33:52.342864Z"
    }
   }
  },
  {
   "cell_type": "code",
   "execution_count": 74,
   "outputs": [],
   "source": [
    "from typing import Dict, List\n",
    "\n",
    "# load accounts\n",
    "soc_account = Account(\"@sonsofcryptolabs\")\n",
    "dev_account = Account(\"@web3dev\")\n",
    "\n",
    "#load lists\n",
    "cpa_posts = list(map(lambda x: Post(x, \"cpa_posts\", None), list(np.arange(30))))\n",
    "mem_posts = list(map(lambda x: Post(x, \"mem_posts\", None), list(np.arange(30))))\n",
    "jka_posts = list(map(lambda x: Post(x, \"jka_posts\", None), list(np.arange(30))))\n",
    "cpb_posts = list(map(lambda x: Post(x, \"cpb_posts\", None), list(np.arange(30))))\n",
    "fre_posts = list(map(lambda x: Post(x, \"fre_posts\", None), list(np.arange(30))))\n",
    "jkb_posts = list(map(lambda x: Post(x, \"jkb_posts\", None), list(np.arange(30))))\n",
    "\n",
    "def generate_actions() -> List[Action]:\n",
    "    actions: List = []\n",
    "    for i in range(0, 30):\n",
    "        actions.append(PostAction(soc_account,cpa_posts[i]))\n",
    "        actions.append(PostAction(dev_account,mem_posts[i]))\n",
    "        actions.append(PostAction(soc_account,jka_posts[i]))\n",
    "        actions.append(PostAction(dev_account,cpb_posts[i]))\n",
    "        actions.append(PostAction(soc_account,fre_posts[i]))\n",
    "        actions.append(PostAction(dev_account,jkb_posts[i]))\n",
    "        actions.append(RTAction(soc_account,mem_posts[i]))\n",
    "        actions.append(RTAction(dev_account,cpa_posts[i]))\n",
    "        actions.append(RTAction(soc_account,cpb_posts[i]))\n",
    "        actions.append(RTAction(dev_account,jka_posts[i]))\n",
    "        actions.append(RTAction(soc_account,jkb_posts[i]))\n",
    "        actions.append(RTAction(dev_account,fre_posts[i]))\n",
    "        actions.append(SRTAction(soc_account,cpa_posts[i]))\n",
    "        actions.append(SRTAction(dev_account,mem_posts[i]))\n",
    "        actions.append(SRTAction(soc_account,jka_posts[i]))\n",
    "        actions.append(SRTAction(dev_account,cpb_posts[i]))\n",
    "        actions.append(SRTAction(soc_account,fre_posts[i]))\n",
    "        actions.append(SRTAction(dev_account,jkb_posts[i]))\n",
    "    return actions\n"
   ],
   "metadata": {
    "collapsed": false,
    "ExecuteTime": {
     "start_time": "2023-04-26T16:33:52.334784Z",
     "end_time": "2023-04-26T16:33:52.343206Z"
    }
   }
  },
  {
   "cell_type": "code",
   "execution_count": 75,
   "outputs": [],
   "source": [
    "class Executor:\n",
    "\n",
    "    def post(self, account: Account, post: Post) -> str:\n",
    "        print(\"Posting\", account.name, post.id, post.text)\n",
    "        return \"http://twitter.com/\" + post.uuid()\n",
    "\n",
    "    def rt(self, account: Account, url: str, uuid: str):\n",
    "        print(\"RTing\", account.name, uuid, url)\n",
    "\n",
    "    def srt(self, account: Account, url: str, uuid: str):\n",
    "        print(\"Self RTing\", account.name, uuid, url)\n",
    "\n",
    "\n",
    "def update_actions_url(action: List[Action], uuid: str, url: str):\n",
    "    for action in actions:\n",
    "        if uuid == action.uuid and not isinstance(action, PostAction):\n",
    "            action.url = url\n",
    "\n",
    "def exec_next_action(executor: Executor, actions: List[Action]) -> List[Action]:\n",
    "    if len(actions) <= 0:\n",
    "        return actions\n",
    "\n",
    "    action = actions.pop(0)\n",
    "\n",
    "    if isinstance(action, PostAction):\n",
    "        url = executor.post(action.account, action.post)\n",
    "        update_actions_url(actions, action.uuid, url)\n",
    "    elif isinstance(action, RTAction):\n",
    "        executor.rt(action.account, action.url, action.uuid)\n",
    "    elif isinstance(action, SRTAction):\n",
    "        executor.srt(action.account, action.url, action.uuid)\n",
    "    else:\n",
    "        print(\"Unexpected object type\", action)\n",
    "\n",
    "    return actions\n",
    "\n",
    "def write_to_file(data: bytes, path: str):\n",
    "    with open(path, \"w\") as file:\n",
    "        file.write(data)\n",
    "\n",
    "def read_from_file(path: str) -> bytes:\n",
    "    try:\n",
    "        with open(path, \"r\") as file:\n",
    "            return file.read()\n",
    "    except:\n",
    "        return None"
   ],
   "metadata": {
    "collapsed": false,
    "ExecuteTime": {
     "start_time": "2023-04-26T16:33:52.340563Z",
     "end_time": "2023-04-26T16:33:52.347879Z"
    }
   }
  },
  {
   "cell_type": "code",
   "execution_count": 76,
   "outputs": [
    {
     "name": "stdout",
     "output_type": "stream",
     "text": [
      "Actions count: 491\n",
      "Self RTing @web3dev b3f6003e947c98d1e5924ac9f0a88457afe94e8ac37a079d58b713125d59499a http://twitter.com/b3f6003e947c98d1e5924ac9f0a88457afe94e8ac37a079d58b713125d59499a\n"
     ]
    }
   ],
   "source": [
    "ACTIONS_PATH = \".run/actions.json\"\n",
    "executor = Executor()\n",
    "\n",
    "# restore or generate actions if needed\n",
    "actions_data = read_from_file(ACTIONS_PATH)\n",
    "if actions_data is not None:\n",
    "    actions = jsonpickle.decode(actions_data)\n",
    "else:\n",
    "    actions = generate_actions()\n",
    "    write_to_file(jsonpickle.encode(actions), ACTIONS_PATH)\n",
    "\n",
    "# executes action & write new state to disk\n",
    "print(\"Actions count:\", len(actions))\n",
    "if len(actions) > 0:\n",
    "    actions = exec_next_action(executor, actions)\n",
    "    write_to_file(jsonpickle.encode(actions), ACTIONS_PATH)"
   ],
   "metadata": {
    "collapsed": false,
    "ExecuteTime": {
     "start_time": "2023-04-26T16:33:52.349711Z",
     "end_time": "2023-04-26T16:33:52.379979Z"
    }
   }
  },
  {
   "cell_type": "code",
   "execution_count": null,
   "outputs": [],
   "source": [
    "class Executor:\n",
    "\n",
    "    def post(self, account: Account, post: Post) -> str:\n",
    "        print(\"Posting\", account.name, post.id, post.text)\n",
    "        return \"http://twitter.com/\" + post.uuid()\n",
    "\n",
    "    def rt(self, account: Account, url: str, uuid: str):\n",
    "        print(\"RTing\", account.name, uuid, url)\n",
    "\n",
    "    def srt(self, account: Account, url: str, uuid: str):\n",
    "        print(\"Self RTing\", account.name, uuid, url)"
   ],
   "metadata": {
    "collapsed": false
   }
  },
  {
   "cell_type": "code",
   "execution_count": 77,
   "outputs": [],
   "source": [
    "# restore actions from disc\n",
    "# if empty generate actions list\n",
    "# execute\n"
   ],
   "metadata": {
    "collapsed": false,
    "ExecuteTime": {
     "start_time": "2023-04-26T16:33:52.379961Z",
     "end_time": "2023-04-26T16:33:52.382261Z"
    }
   }
  },
  {
   "cell_type": "code",
   "execution_count": 78,
   "outputs": [],
   "source": [
    "# 11:00:00 AM\t08:00:00 AM\t05:00:00 AM\t02:00:00 AM\n",
    "# 12:00:00 PM\t09:00:00 AM\t06:00:00 AM\t03:00:00 AM\t\tCCA\n",
    "# 01:00:00 PM\t10:00:00 AM\t07:00:00 AM\t04:00:00 AM\t\t\tmeme\n",
    "# 02:00:00 PM\t11:00:00 AM\t08:00:00 AM\t05:00:00 AM\t\tjoke1\n",
    "# 03:00:00 PM\t12:00:00 PM\t09:00:00 AM\t06:00:00 AM\t\t\tCCB\n",
    "# 04:00:00 PM\t01:00:00 PM\t10:00:00 AM\t07:00:00 AM\t\tfreedom\n",
    "# 05:00:00 PM\t02:00:00 PM\t11:00:00 AM\t08:00:00 AM\t\t\tjoke2\n",
    "# 06:00:00 PM\t03:00:00 PM\t12:00:00 PM\t09:00:00 AM\t\tmeme RT\n",
    "# 07:00:00 PM\t04:00:00 PM\t01:00:00 PM\t10:00:00 AM\t\t\tCCA RT\n",
    "# 08:00:00 PM\t05:00:00 PM\t02:00:00 PM\t11:00:00 AM\t\tCCB RT\n",
    "# 09:00:00 PM\t06:00:00 PM\t03:00:00 PM\t12:00:00 PM\t\t\tjoke1 RT\n",
    "# 10:00:00 PM\t07:00:00 PM\t04:00:00 PM\t01:00:00 PM\t\tjoke2 RT\n",
    "# 11:00:00 PM\t08:00:00 PM\t05:00:00 PM\t02:00:00 PM\t\t\tfreedom RT\n",
    "# 12:00:00 AM\t09:00:00 PM\t06:00:00 PM\t03:00:00 PM\t\tCCA SRT\n",
    "# 01:00:00 AM\t10:00:00 PM\t07:00:00 PM\t04:00:00 PM\t\t\tmeme SRT\n",
    "# 02:00:00 AM\t11:00:00 PM\t08:00:00 PM\t05:00:00 PM\t\tjoke1 SRT\n",
    "# 03:00:00 AM\t12:00:00 AM\t09:00:00 PM\t06:00:00 PM\t\t\tCCB SRT\n",
    "# 04:00:00 AM\t01:00:00 AM\t10:00:00 PM\t07:00:00 PM\t\tfreedom SRT\n",
    "# 05:00:00 AM\t02:00:00 AM\t11:00:00 PM\t08:00:00 PM\t\t\tjoke2 SRT"
   ],
   "metadata": {
    "collapsed": false,
    "ExecuteTime": {
     "start_time": "2023-04-26T16:33:52.382993Z",
     "end_time": "2023-04-26T16:33:52.385244Z"
    }
   }
  }
 ],
 "metadata": {
  "kernelspec": {
   "display_name": "Python 3",
   "language": "python",
   "name": "python3"
  },
  "language_info": {
   "codemirror_mode": {
    "name": "ipython",
    "version": 3
   },
   "file_extension": ".py",
   "mimetype": "text/x-python",
   "name": "python",
   "nbconvert_exporter": "python",
   "pygments_lexer": "ipython3",
   "version": "3.7.5"
  }
 },
 "nbformat": 4,
 "nbformat_minor": 2
}
